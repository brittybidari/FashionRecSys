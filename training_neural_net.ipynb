{
 "cells": [
  {
   "cell_type": "code",
   "execution_count": null,
   "id": "36372d4e",
   "metadata": {},
   "outputs": [],
   "source": [
    "import tensorflow as tf\n",
    "from tensorflow.keras.layers import Conv2D, MaxPooling2D, Flatten, Dense\n",
    "from tensorflow.keras.models import Sequential\n",
    "from tensorflow.keras.preprocessing.image import ImageDataGenerator\n",
    "import numpy as np"
   ]
  },
  {
   "cell_type": "code",
   "execution_count": null,
   "id": "4c8b6bae",
   "metadata": {},
   "outputs": [],
   "source": [
    "# Set the input image size\n",
    "input_size = (224, 224)"
   ]
  },
  {
   "cell_type": "code",
   "execution_count": null,
   "id": "6a38765f",
   "metadata": {},
   "outputs": [],
   "source": [
    "# Define the CNN model\n",
    "model = Sequential()"
   ]
  },
  {
   "cell_type": "code",
   "execution_count": null,
   "id": "03a168b1",
   "metadata": {},
   "outputs": [],
   "source": [
    "# Add convolutional layers\n",
    "model.add(Conv2D(32, (3, 3), activation='relu', input_shape=(input_size[0], input_size[1], 3)))\n",
    "model.add(MaxPooling2D((2, 2)))\n",
    "model.add(Conv2D(64, (3, 3), activation='relu'))\n",
    "model.add(MaxPooling2D((2, 2)))\n",
    "model.add(Conv2D(128, (3, 3), activation='relu'))\n",
    "model.add(MaxPooling2D((2, 2)))"
   ]
  },
  {
   "cell_type": "code",
   "execution_count": null,
   "id": "a8d3152f",
   "metadata": {},
   "outputs": [],
   "source": [
    "# Flatten the feature maps\n",
    "model.add(Flatten())\n",
    "\n",
    "# Add a fully connected layer\n",
    "model.add(Dense(128, activation='relu'))\n",
    "\n",
    "# Add the output layer\n",
    "model.add(Dense(5))  # 5 for top 5 similar images"
   ]
  },
  {
   "cell_type": "code",
   "execution_count": null,
   "id": "a9dc8af1",
   "metadata": {},
   "outputs": [],
   "source": [
    "\n",
    "# Compile the model\n",
    "model.compile(optimizer='adam', loss='mse')\n",
    "\n",
    "# Data augmentation and preprocessing\n",
    "datagen = ImageDataGenerator(rescale=1.0 / 255)  # Normalize pixel values between 0 and 1\n"
   ]
  },
  {
   "cell_type": "code",
   "execution_count": null,
   "id": "579fa628",
   "metadata": {},
   "outputs": [],
   "source": [
    "# Set the paths to your input and target images\n",
    "input_image_path = 'path/to/your/input_image.jpg'\n",
    "image_paths = [\n",
    "    'path/to/your/image1.jpg',\n",
    "    'path/to/your/image2.jpg',\n",
    "    'path/to/your/image3.jpg',\n",
    "    'path/to/your/image4.jpg',\n",
    "    'path/to/your/image5.jpg'\n",
    "]"
   ]
  },
  {
   "cell_type": "code",
   "execution_count": null,
   "id": "e594963a",
   "metadata": {},
   "outputs": [],
   "source": [
    "# Load and preprocess the input and target images\n",
    "input_image = tf.keras.preprocessing.image.load_img(input_image_path, target_size=input_size)\n",
    "input_image = tf.keras.preprocessing.image.img_to_array(input_image)\n",
    "input_image = np.expand_dims(input_image, axis=0)\n",
    "input_image = input_image / 255.0  # Normalize pixel values between 0 and 1\n"
   ]
  },
  {
   "cell_type": "code",
   "execution_count": null,
   "id": "23b47473",
   "metadata": {},
   "outputs": [],
   "source": [
    "target_images = []\n",
    "for image_path in image_paths:\n",
    "    target_image = tf.keras.preprocessing.image.load_img(image_path, target_size=input_size)\n",
    "    target_image = tf.keras.preprocessing.image.img_to_array(target_image)\n",
    "    target_image = target_image / 255.0  # Normalize pixel values between 0 and 1\n",
    "    target_images.append(target_image)\n",
    "\n",
    "target_images = np.array(target_images)"
   ]
  },
  {
   "cell_type": "code",
   "execution_count": null,
   "id": "aedc187a",
   "metadata": {},
   "outputs": [],
   "source": [
    "# Train the model\n",
    "model.fit(datagen.flow(target_images, target_images, batch_size=1),\n",
    "          epochs=10, steps_per_epoch=len(target_images))\n",
    "\n",
    "# Get the feature vectors for input and target images\n",
    "input_features = model.predict(input_image)\n",
    "target_features = model.predict(target_images)"
   ]
  },
  {
   "cell_type": "code",
   "execution_count": null,
   "id": "02654d18",
   "metadata": {},
   "outputs": [],
   "source": [
    "# Compute similarity between input and target images\n",
    "similarities = []\n",
    "for feature in target_features:\n",
    "    similarity = np.dot(input_features.flatten(), feature.flatten()) / (\n",
    "            np.linalg.norm(input_features) * np.linalg.norm(feature))\n",
    "    similarities.append(similarity)"
   ]
  },
  {
   "cell_type": "code",
   "execution_count": null,
   "id": "90cf731b",
   "metadata": {},
   "outputs": [],
   "source": [
    "\n",
    "# Get indices of top 5 similar images\n",
    "top_indices = np.argsort(similarities)[::-1][:5]\n",
    "\n",
    "# Return paths of top 5 similar images\n",
    "similar_images = [image_paths[i] for i in top_indices]\n",
    "\n",
    "# Print the paths of similar images\n",
    "for image_path in similar_images:\n",
    "    print(image_path)"
   ]
  },
  {
   "cell_type": "markdown",
   "id": "aaf574c5",
   "metadata": {},
   "source": [
    "We import the necessary libraries, including TensorFlow and its components.\n",
    "\n",
    "We define the input image size, which should match the expected input size of your CNN model.\n",
    "\n",
    "We create a Sequential model, which allows us to stack layers sequentially.\n",
    "\n",
    "We add convolutional layers to the model. In this example, we have three convolutional layers with increasing filter sizes and ReLU activation, followed by max-pooling layers.\n",
    "\n",
    "We flatten the feature maps using a Flatten layer to prepare for the fully connected layers.\n",
    "\n",
    "We add a fully connected layer with ReLU activation.\n",
    "\n",
    "We add the output layer, which consists of 5 units corresponding to the top 5 similar images.\n",
    "\n",
    "We compile the model using the Adam optimizer and mean squared error (MSE) loss.\n",
    "\n",
    "We create an ImageDataGenerator object for data augmentation and preprocessing. In this example, we only normalize pixel values between 0 and 1.\n",
    "\n",
    "We set the paths to your input and target images.\n",
    "\n",
    "We load and preprocess the input and target images using TensorFlow's image processing functions.\n",
    "\n",
    "We train the model using the target images as both input and target labels.\n",
    "\n",
    "We get the feature vectors for the input and target images by passing them through the trained model.\n",
    "\n",
    "We compute the similarity between the input and target images using dot product and vector normalization.\n",
    "\n",
    "We get the indices of the top 5 similar images based on the computed similarities.\n",
    "\n",
    "We return the paths of the top 5 similar images.\n",
    "\n",
    "Finally, we print the paths of the similar images."
   ]
  },
  {
   "cell_type": "code",
   "execution_count": null,
   "id": "58fcb780",
   "metadata": {},
   "outputs": [],
   "source": []
  },
  {
   "cell_type": "code",
   "execution_count": null,
   "id": "954b01c3",
   "metadata": {},
   "outputs": [],
   "source": []
  }
 ],
 "metadata": {
  "kernelspec": {
   "display_name": "Python 3 (ipykernel)",
   "language": "python",
   "name": "python3"
  },
  "language_info": {
   "codemirror_mode": {
    "name": "ipython",
    "version": 3
   },
   "file_extension": ".py",
   "mimetype": "text/x-python",
   "name": "python",
   "nbconvert_exporter": "python",
   "pygments_lexer": "ipython3",
   "version": "3.9.0"
  }
 },
 "nbformat": 4,
 "nbformat_minor": 5
}
